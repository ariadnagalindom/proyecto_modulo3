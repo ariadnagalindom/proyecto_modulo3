{
 "cells": [
  {
   "cell_type": "markdown",
   "metadata": {},
   "source": [
    "<img style=\"float: right; margin: 0px 0px 0px 0px;\" src=\"https://www.curiosite.es/img/auto_catalogo/w750/1702.jpg\" width=\"300px\" height=\"200px\" />\n",
    "# **Proyecto modulo 2**\n",
    "## **1.1 Máquina tragamonedas**\n"
   ]
  },
  {
   "cell_type": "markdown",
   "metadata": {},
   "source": [
    "## **1.2 Objetivos **\n",
    "\n",
    "### **1.2.1 Objetivo general**\n",
    "- Utilizar numeros *pseudoaleatorios* para crear un juego de casino.\n",
    "\n",
    "### **1.2.2 Objetivos específicos**\n",
    "- Demostrar la aplicación de los numeros pseudoaleatorios en la vida real.\n",
    "- Simular un juego común en los casino. \n",
    "- Generar una interacción entre usuario-máquina."
   ]
  },
  {
   "cell_type": "markdown",
   "metadata": {},
   "source": [
    "## **1.3 Modelo que representa el problema **\n",
    "### **Nuestra máquina**\n",
    "Las máquinas tragamonedas son máquinas que a cambio de una cantidad de dinero apostado dan un tiempo de juego y eventualmente un premio en efectivo. Son uno de los juegos electrónicos para ganar dinero, más conocidos y más utilizados desde mediados del siglo pasado.\n",
    "\n",
    "Estas máquinas pueden ser de dos tipos:\n",
    "\n",
    "* **Programadas:** en estas máquinas el premio depende de un programa interno en la máquina, de tal forma que al cabo de una secuencia de jugadas la máquina ha de devolver una cantidad determinada de lo que se ha metido en ella. Este tipo de máquinas son habituales de los salones de juego y en algunos países también en bares o cafeterías.**<font color=green>Usaremos este tipo**\n",
    "* **De azar:** en estas máquinas los premios dependen exclusivamente del azar. Para conocer el porcentaje de pago de estas máquinas hay que acudir a la estadística y la probabilidad. Sólo se suelen encontrar en salones de juego de los casinos.\n",
    "    \n",
    "### **Aplicación de números aleatorios**\n",
    "Los Generadores de Números Aleatorios (GNAs) llamados también RNG de su abraviatura del inglés (Random Number Generator) son cruciales para la industria del juego online. De hecho, los RNG son el latido de corazón de todo el negocio y sin ellos los casinos en línea simplemente no serían justos o lugares divertidos para jugar. En lugares presenciales, los crupieres aleatorizan las cartas barajándolas. Esto se puede hacer usando una sola baraja después de cada mano o, para juegos como el blackjack, cargando el zapato de casino con hasta ocho barajas de cartas mezcladas previamente. En casinos con generador de números aleatorios, el proceso de barajar es reemplazado por una formula matemática para garantizar que cada carta repartida, dado tirado o rueda girada, sean completamente aleatorios y, por lo tanto, impredecibles.\n",
    "\n",
    "Tradicionalmente, si necesitabas un número aleatorio, utilizarías un método similar al que ves en un casino físico: barajar cartas, lanzar dados o incluso lanzar monedas. Las loterías y los juegos de bingo son esencialmente juegos de RNG también. Como la necesidad de cantidades mayores de números aleatorios se volvió más urgente en las estadísticas, se desarrollaron RNG computarizados. Los casinos RNG usan lo que se conoce como generador de números pseudoaleatorios (PRNG). El algoritmo puede crear largas cadenas de números aleatorios automáticamente, pero todas las series están determinadas por un número fijo llamado semilla. Al manipular la semilla, los desarrolladores pueden controlar el retorno al jugador en los juegos de casino.\n",
    "<img style=\"float: margin: 0px 0px 0px 0px;\" src=\"http://www.mejorcasino.org/files/infografia-rng.jpg\" width=\"800px\" height=\"1000\n",
    "px\" />\n",
    "\n",
    "Como puedes ver en la imagen de arriba, todo este proceso de creación de números aleatorios para generar resultados justos es bastante complejo. Lograr la verdadera aleatoriedad es muy difícil, pero con la tecnología y los sistemas informáticos modernos, los matemáticos y los estadísticos se han acercado lo suficiente como para que podamos disfrutar de los juegos de casino sin preocupaciones.\n",
    "\n",
    "Los RNGs originalmente entraron en el negocio de los casinos como una nueva forma de operar las máquinas de azar. En el pasado, las máquinas tragaperras usaban tambores físicos para determinar qué símbolos aterrizarían en la línea de pago que normalmente era solo una, para crear combinaciones ganadoras. Hoy en día, las tragaperras online son complicadas y se pueden jugar en varias líneas de pago. Las viejas máquinas simplemente no podían manejar este tipo de complejidad, y por tanto sin el nacimiento del RNG nunca habríamos llegado a este punto en los slots online.\n",
    "\n",
    "Además de permitir a los desarrolladores crear juegos de slots más interesantes y variados, los RNG son esenciales para que los juegos sean justos y honestos. Imagina que estás sentado frente a un slot online. Desde el minuto de cargar el juego, se está creando una cadena de números aleatorios detrás de las escenas. La secuencia se mueve constantemente y no se detendrá hasta que toques el botón Girar. En este punto la secuencia se detendrá y el número aleatorio se convertirá en un resultado tangible: los tambores se detienen, se reparte una carta, la bola cae en una casilla de ruleta, etcétera. Los RNG son inspeccionados por reguladores independientes, y el sitio de casino no obtendrá una licencia para operar si no logra pasar estas pruebas."
   ]
  },
  {
   "cell_type": "markdown",
   "metadata": {},
   "source": [
    "## **1.4 Simulaciones **"
   ]
  },
  {
   "cell_type": "code",
   "execution_count": 1,
   "metadata": {},
   "outputs": [],
   "source": [
    "import random\n",
    "import time\n",
    "import os"
   ]
  },
  {
   "cell_type": "code",
   "execution_count": 2,
   "metadata": {},
   "outputs": [],
   "source": [
    "time.sleep(10)\n",
    "#Constants:\n",
    "INIT_STAKE = 50\n",
    "INIT_BALANCE = 1000\n",
    "ITEMS = [\"CHERRY\", \"LEMON\", \"ORANGE\", \"PLUM\", \"BELL\", \"BAR\", \"7\"]\n",
    "\n",
    "firstWheel = None\n",
    "secondWheel = None\n",
    "thirdWheel = None\n",
    "stake = INIT_STAKE\n",
    "balance = INIT_BALANCE\n",
    "\n",
    "def play():\n",
    "    global stake, firstWheel, secondWheel, thirdWheel\n",
    "    playQuestion = askPlayer()\n",
    "    while(stake != 0 and playQuestion == True):\n",
    "        firstWheel = spinWheel()\n",
    "        secondWheel = spinWheel()\n",
    "        thirdWheel = spinWheel()\n",
    "        printScore()\n",
    "        playQuestion = askPlayer()\n",
    "\n",
    "def askPlayer():\n",
    "    '''\n",
    "    Le pregunta al jugador si quiere volver a jugar.\n",
    "    esperando que el usuario responda con sí, y, no o n\n",
    "    No hay sensibilidad a mayúsculas en la respuesta. sí, sí, y, y, no. . . todas las obras\n",
    "    '''\n",
    "    global stake\n",
    "    global balance\n",
    "    while(True):\n",
    "        os.system('cls' if os.name == 'nt' else 'clear')\n",
    "        if (balance <=1):\n",
    "            print (\"Reinicio de la máquina.\")\n",
    "            balance = 1000\n",
    "\n",
    "        print (\"El Jackpot es actualmente: $\" + str(balance) + \".\")\n",
    "        answer = input(\"¿Quisieras jugar? ¿O revisar tu dinero? \")\n",
    "        answer = answer.lower()\n",
    "        if(answer == \"si\" or answer == \"y\"):\n",
    "            return True\n",
    "        elif(answer == \"no\" or answer == \"n\"):\n",
    "            print(\"Terminaste el juego con $\" + str(stake) + \" en tu mano. Gran trabajo!\")\n",
    "            time.sleep(5)\n",
    "            return False\n",
    "        elif(answer == \"check\" or answer == \"CHECK\"):\n",
    "            print (\"Tu Actualmente tienes $\" + str(stake) + \".\")\n",
    "        else:\n",
    "           print(\"Whoops! No entendi eso.\")\n",
    "\n",
    "def spinWheel():\n",
    "    '''\n",
    "    returns a random item from the wheel\n",
    "    '''\n",
    "    randomNumber = random.randint(0, 5)\n",
    "    return ITEMS[randomNumber]\n",
    "\n",
    "def printScore():\n",
    "    '''\n",
    "    prints the current score\n",
    "    '''\n",
    "    global stake, firstWheel, secondWheel, thirdWheel, balance\n",
    "    if((firstWheel == \"CHERRY\") and (secondWheel != \"CHERRY\")):\n",
    "        win = 2\n",
    "        balance = balance - 2\n",
    "    elif((firstWheel == \"CHERRY\") and (secondWheel == \"CHERRY\") and (thirdWheel != \"CHERRY\")):\n",
    "        win = 5\n",
    "        balance = balance - 5\n",
    "    elif((firstWheel == \"CHERRY\") and (secondWheel == \"CHERRY\") and (thirdWheel == \"CHERRY\")):\n",
    "        win = 7\n",
    "        balance = balance - 7\n",
    "    elif((firstWheel == \"ORANGE\") and (secondWheel == \"ORANGE\") and ((thirdWheel == \"ORANGE\") or (thirdWheel == \"BAR\"))):\n",
    "        win = 10\n",
    "        balance = balance - 10\n",
    "    elif((firstWheel == \"PLUM\") and (secondWheel == \"PLUM\") and ((thirdWheel == \"PLUM\") or (thirdWheel == \"BAR\"))):\n",
    "        win = 14\n",
    "        balance = balance - 14\n",
    "    elif((firstWheel == \"BELL\") and (secondWheel == \"BELL\") and ((thirdWheel == \"BELL\") or (thirdWheel == \"BAR\"))):\n",
    "        win = 20\n",
    "        balance = balance - 20\n",
    "    elif((firstWheel == \"BAR\") and (secondWheel == \"BAR\") and (thirdWheel == \"BAR\")):\n",
    "        win = 250\n",
    "        balance = balance - 250\n",
    "    elif((firstWheel == \"7\") and (secondWheel == \"7\") and (thridWheel == \"7\")):\n",
    "        win = balance\n",
    "        balance = balance - win\n",
    "    else:\n",
    "        win = -1\n",
    "        balance = balance + 1\n",
    "\n",
    "    stake += win\n",
    "    if win == balance:\n",
    "        print (\"Ganaste el JACKPOT!!\")\n",
    "    if(win > 0):\n",
    "        print(firstWheel + '\\t' + secondWheel + '\\t' + thirdWheel + ' -- Ganaste $' + str(win))\n",
    "        time.sleep(3)\n",
    "        os.system('cls' if os.name == 'nt' else 'clear')\n",
    "    else:\n",
    "        print(firstWheel + '\\t' + secondWheel + '\\t' + thirdWheel + ' -- Perdiste')\n",
    "        time.sleep(2)\n",
    "        os.system('cls' if os.name == 'nt' else 'clear')\n"
   ]
  },
  {
   "cell_type": "markdown",
   "metadata": {},
   "source": [
    "## **1.5 Visualización de resultados de simulación**"
   ]
  },
  {
   "cell_type": "code",
   "execution_count": 3,
   "metadata": {},
   "outputs": [
    {
     "name": "stdout",
     "output_type": "stream",
     "text": [
      "\n",
      "Bienvenido a la máquina tragamonedas\n",
      "Comenzarás con $ 50 pesos. Se te preguntará si quieres jugar.\n",
      "Responda con sí / no. también puedes usar y / n\n",
      "No hay sensibilidad de mayúsculas, escríbela como quieras!\n",
      "Para ganar debes obtener una de las siguientes combinaciones:\n",
      "BAR\tBAR\tBAR\t\tpays\t$250\n",
      "BELL\tBELL\tBELL/BAR\tpays\t$20\n",
      "PLUM\tPLUM\tPLUM/BAR\tpays\t$14\n",
      "ORANGE\tORANGE\tORANGE/BAR\tpays\t$10\n",
      "CHERRY\tCHERRY\tCHERRY\t\tpays\t$7\n",
      "CHERRY\tCHERRY\t  -\t\tpays\t$5\n",
      "CHERRY\t  -\t  -\t\tpays\t$2\n",
      "7\t  7\t  7\t\tpays\t The Jackpot!\n",
      "\n",
      "El Jackpot es actualmente: $1000.\n",
      "¿Quisieras jugar? ¿O revisar tu dinero? y\n",
      "LEMON\tPLUM\tPLUM -- Perdiste\n",
      "El Jackpot es actualmente: $1001.\n",
      "¿Quisieras jugar? ¿O revisar tu dinero? y\n",
      "BAR\tPLUM\tLEMON -- Perdiste\n",
      "El Jackpot es actualmente: $1002.\n",
      "¿Quisieras jugar? ¿O revisar tu dinero? yy\n",
      "Whoops! No entendi eso.\n",
      "El Jackpot es actualmente: $1002.\n",
      "¿Quisieras jugar? ¿O revisar tu dinero? y\n",
      "LEMON\tLEMON\tORANGE -- Perdiste\n",
      "El Jackpot es actualmente: $1003.\n",
      "¿Quisieras jugar? ¿O revisar tu dinero? y\n",
      "PLUM\tBELL\tBELL -- Perdiste\n",
      "El Jackpot es actualmente: $1004.\n",
      "¿Quisieras jugar? ¿O revisar tu dinero? n\n",
      "Terminaste el juego con $46 en tu mano. Gran trabajo!\n"
     ]
    }
   ],
   "source": [
    "print()\n",
    "print('''Bienvenido a la máquina tragamonedas\n",
    "Comenzarás con $ 50 pesos. Se te preguntará si quieres jugar.\n",
    "Responda con sí / no. también puedes usar y / n\n",
    "No hay sensibilidad de mayúsculas, escríbela como quieras!\n",
    "Para ganar debes obtener una de las siguientes combinaciones:\n",
    "BAR\\tBAR\\tBAR\\t\\tpays\\t$250\n",
    "BELL\\tBELL\\tBELL/BAR\\tpays\\t$20\n",
    "PLUM\\tPLUM\\tPLUM/BAR\\tpays\\t$14\n",
    "ORANGE\\tORANGE\\tORANGE/BAR\\tpays\\t$10\n",
    "CHERRY\\tCHERRY\\tCHERRY\\t\\tpays\\t$7\n",
    "CHERRY\\tCHERRY\\t  -\\t\\tpays\\t$5\n",
    "CHERRY\\t  -\\t  -\\t\\tpays\\t$2\n",
    "7\\t  7\\t  7\\t\\tpays\\t The Jackpot!\n",
    "''')\n",
    "play()"
   ]
  },
  {
   "cell_type": "markdown",
   "metadata": {},
   "source": [
    "## **1.6 Conclusiones**"
   ]
  },
  {
   "cell_type": "markdown",
   "metadata": {},
   "source": [
    "## **1.7 Referencias:**\n",
    "- http://www.notiserver.com/3086--Que-son-las-Maquinas-Tragamonedas-y-como-ganar-dinero-en-ellas-\n",
    "- https://es.wikipedia.org/wiki/M%C3%A1quinas_tragamonedas\n",
    "- http://www.mejorcasino.org/guia/rng/"
   ]
  }
 ],
 "metadata": {
  "kernelspec": {
   "display_name": "Python 3",
   "language": "python",
   "name": "python3"
  },
  "language_info": {
   "codemirror_mode": {
    "name": "ipython",
    "version": 3
   },
   "file_extension": ".py",
   "mimetype": "text/x-python",
   "name": "python",
   "nbconvert_exporter": "python",
   "pygments_lexer": "ipython3",
   "version": "3.6.5"
  }
 },
 "nbformat": 4,
 "nbformat_minor": 2
}
